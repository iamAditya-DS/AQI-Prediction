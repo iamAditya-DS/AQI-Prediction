{
 "cells": [
  {
   "cell_type": "code",
   "execution_count": 2,
   "id": "234c07c9-ca95-41b3-a0fe-a96421dc06ef",
   "metadata": {},
   "outputs": [],
   "source": [
    "import pandas as pd\n",
    "from sklearn.model_selection import train_test_split\n",
    "from sklearn.compose import ColumnTransformer\n",
    "from sklearn.pipeline import Pipeline\n",
    "from sklearn.preprocessing import OneHotEncoder, StandardScaler\n",
    "from sklearn.ensemble import RandomForestRegressor, RandomForestClassifier\n",
    "from sklearn.metrics import r2_score, accuracy_score, classification_report"
   ]
  },
  {
   "cell_type": "code",
   "execution_count": 3,
   "id": "8d60cc36-574c-4f92-aa39-563982329fb0",
   "metadata": {},
   "outputs": [],
   "source": [
    "# Load dataset\n",
    "file_path = 'AQI and Lat Long of Countries.csv'  # Adjust path if necessary\n",
    "dataset = pd.read_csv(file_path)\n",
    "\n",
    "# Drop rows with missing Country values\n",
    "dataset_cleaned = dataset.dropna(subset=['Country']).reset_index(drop=True)"
   ]
  },
  {
   "cell_type": "code",
   "execution_count": 4,
   "id": "6067b2d5-cd1b-4be4-9acf-ff1454928814",
   "metadata": {},
   "outputs": [],
   "source": [
    "# Selecting relevant features and targets\n",
    "features = ['Country', 'City', 'CO AQI Value', 'Ozone AQI Value', \n",
    "            'NO2 AQI Value', 'PM2.5 AQI Value', 'lat', 'lng']\n",
    "target_regression = 'AQI Value'\n",
    "target_classification = 'AQI Category'\n",
    "\n",
    "X = dataset_cleaned[features]\n",
    "y_regression = dataset_cleaned[target_regression]\n",
    "y_classification = dataset_cleaned[target_classification]"
   ]
  },
  {
   "cell_type": "code",
   "execution_count": 5,
   "id": "c801f3bb-0e61-4ae1-9a8b-2d1c3cc286e1",
   "metadata": {},
   "outputs": [],
   "source": [
    "# Splitting data into train and test sets\n",
    "X_train, X_test, y_train_reg, y_test_reg = train_test_split(X, y_regression, test_size=0.2, random_state=42)\n",
    "_, _, y_train_class, y_test_class = train_test_split(X, y_classification, test_size=0.2, random_state=42)"
   ]
  },
  {
   "cell_type": "code",
   "execution_count": 6,
   "id": "32e1b0ff-1490-42e8-867a-a6de892399db",
   "metadata": {},
   "outputs": [],
   "source": [
    "# Define preprocessing for numerical and categorical data\n",
    "categorical_features = ['Country', 'City']\n",
    "numerical_features = ['CO AQI Value', 'Ozone AQI Value', 'NO2 AQI Value', 'PM2.5 AQI Value', 'lat', 'lng']\n",
    "\n",
    "preprocessor = ColumnTransformer(\n",
    "    transformers=[\n",
    "        ('num', StandardScaler(), numerical_features),\n",
    "        ('cat', OneHotEncoder(handle_unknown='ignore'), categorical_features)\n",
    "    ])"
   ]
  },
  {
   "cell_type": "code",
   "execution_count": 7,
   "id": "dc134337-a87e-40e0-8db9-17ac17af91c1",
   "metadata": {},
   "outputs": [],
   "source": [
    "# Random Forest Pipelines for Regression and Classification\n",
    "regressor_pipeline = Pipeline(steps=[\n",
    "    ('preprocessor', preprocessor),\n",
    "    ('regressor', RandomForestRegressor(n_estimators=100, random_state=42))\n",
    "])"
   ]
  },
  {
   "cell_type": "code",
   "execution_count": 8,
   "id": "f03f0519-d34b-46f7-9394-ed69e18099ab",
   "metadata": {},
   "outputs": [],
   "source": [
    "classifier_pipeline = Pipeline(steps=[\n",
    "    ('preprocessor', preprocessor),\n",
    "    ('classifier', RandomForestClassifier(n_estimators=100, random_state=42))\n",
    "])"
   ]
  },
  {
   "cell_type": "code",
   "execution_count": 9,
   "id": "514c9cb4-c3e8-410e-8a81-950682b780a9",
   "metadata": {},
   "outputs": [],
   "source": [
    "# Train models\n",
    "regressor_pipeline.fit(X_train, y_train_reg)\n",
    "classifier_pipeline.fit(X_train, y_train_class)\n",
    "\n",
    "# Predictions\n",
    "y_pred_reg = regressor_pipeline.predict(X_test)\n",
    "y_pred_class = classifier_pipeline.predict(X_test)"
   ]
  },
  {
   "cell_type": "code",
   "execution_count": 10,
   "id": "87845f4d-dd8e-4879-8775-bf366d3d5751",
   "metadata": {},
   "outputs": [
    {
     "name": "stdout",
     "output_type": "stream",
     "text": [
      "Regression Model R² Score: 0.9985088604897426\n",
      "Classification Model Accuracy: 0.9807868252516011\n",
      "Classification Report:\n",
      "                                 precision    recall  f1-score   support\n",
      "\n",
      "                          Good       1.00      1.00      1.00      1489\n",
      "                     Hazardous       1.00      0.62      0.77         8\n",
      "                      Moderate       0.98      1.00      0.99      1408\n",
      "                     Unhealthy       0.88      0.93      0.91       179\n",
      "Unhealthy for Sensitive Groups       0.95      0.81      0.88       169\n",
      "                Very Unhealthy       1.00      0.46      0.63        26\n",
      "\n",
      "                      accuracy                           0.98      3279\n",
      "                     macro avg       0.97      0.80      0.86      3279\n",
      "                  weighted avg       0.98      0.98      0.98      3279\n",
      "\n"
     ]
    }
   ],
   "source": [
    "# Evaluation\n",
    "regression_r2 = r2_score(y_test_reg, y_pred_reg)\n",
    "classification_accuracy = accuracy_score(y_test_class, y_pred_class)\n",
    "classification_report_summary = classification_report(y_test_class, y_pred_class)\n",
    "\n",
    "print(\"Regression Model R² Score:\", regression_r2)\n",
    "print(\"Classification Model Accuracy:\", classification_accuracy)\n",
    "print(\"Classification Report:\\n\", classification_report_summary)"
   ]
  },
  {
   "cell_type": "code",
   "execution_count": 11,
   "id": "e9839a65-211b-4fba-bfdf-e6075ae16600",
   "metadata": {},
   "outputs": [],
   "source": [
    "# Example Prediction\n",
    "def predict_aqi(country, city, co, ozone, no2, pm25, lat, lng):\n",
    "    input_data = pd.DataFrame({\n",
    "        'Country': [country],\n",
    "        'City': [city],\n",
    "        'CO AQI Value': [co],\n",
    "        'Ozone AQI Value': [ozone],\n",
    "        'NO2 AQI Value': [no2],\n",
    "        'PM2.5 AQI Value': [pm25],\n",
    "        'lat': [lat],\n",
    "        'lng': [lng]\n",
    "    })\n",
    "    aqi_value = regressor_pipeline.predict(input_data)[0]\n",
    "    aqi_category = classifier_pipeline.predict(input_data)[0]\n",
    "    return aqi_value, aqi_category"
   ]
  },
  {
   "cell_type": "code",
   "execution_count": 12,
   "id": "199c7722-979c-4c74-8cc3-e22b15145b52",
   "metadata": {},
   "outputs": [
    {
     "name": "stdout",
     "output_type": "stream",
     "text": [
      "Predicted AQI Value: 50.0\n",
      "Predicted AQI Category: Good\n"
     ]
    }
   ],
   "source": [
    "# Example usage\n",
    "example_result = predict_aqi(\"United States\", \"Los Angeles\", 15.0, 50.0, 25.0, 30.0, 34.05, -118.25)\n",
    "print(\"Predicted AQI Value:\", example_result[0])\n",
    "print(\"Predicted AQI Category:\", example_result[1])"
   ]
  },
  {
   "cell_type": "code",
   "execution_count": 13,
   "id": "0a354b81-fc3e-43b2-8349-41f3af853dda",
   "metadata": {},
   "outputs": [
    {
     "name": "stdout",
     "output_type": "stream",
     "text": [
      "Models saved successfully!\n"
     ]
    }
   ],
   "source": [
    "import joblib\n",
    "\n",
    "# Save the pipelines\n",
    "joblib.dump(regressor_pipeline, \"regressor_pipeline.pkl\")\n",
    "joblib.dump(classifier_pipeline, \"classifier_pipeline.pkl\")\n",
    "\n",
    "print(\"Models saved successfully!\")\n"
   ]
  },
  {
   "cell_type": "code",
   "execution_count": null,
   "id": "d92cca20-4eae-4269-a8e2-901f8d4ed1f4",
   "metadata": {},
   "outputs": [],
   "source": []
  }
 ],
 "metadata": {
  "kernelspec": {
   "display_name": "Python 3 (ipykernel)",
   "language": "python",
   "name": "python3"
  },
  "language_info": {
   "codemirror_mode": {
    "name": "ipython",
    "version": 3
   },
   "file_extension": ".py",
   "mimetype": "text/x-python",
   "name": "python",
   "nbconvert_exporter": "python",
   "pygments_lexer": "ipython3",
   "version": "3.10.11"
  }
 },
 "nbformat": 4,
 "nbformat_minor": 5
}
